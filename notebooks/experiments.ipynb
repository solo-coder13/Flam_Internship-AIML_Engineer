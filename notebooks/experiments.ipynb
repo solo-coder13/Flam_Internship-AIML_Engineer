{
 "cells": [
  {
   "cell_type": "code",
   "execution_count": null,
   "id": "9b29c7ac",
   "metadata": {
    "vscode": {
     "languageId": "plaintext"
    }
   },
   "outputs": [],
   "source": [
    "from PIL import Image\n",
    "\n",
    "# Load background and person image\n",
    "bg = Image.open(\"assets/background/street_scene.jpg\")\n",
    "person = Image.open(\"assets/person/person_no_bg.png\")\n",
    "\n",
    "# Display\n",
    "bg.show()\n",
    "person.show()\n"
   ]
  },
  {
   "cell_type": "code",
   "execution_count": null,
   "id": "e8f48052",
   "metadata": {
    "vscode": {
     "languageId": "plaintext"
    }
   },
   "outputs": [],
   "source": [
    "from utils.shadow_utils import generate_shadow\n",
    "\n",
    "# Simulate top-left light source\n",
    "shadowed = generate_shadow(person, (1, -1))\n",
    "shadowed.show()\n"
   ]
  },
  {
   "cell_type": "code",
   "execution_count": null,
   "id": "a79eaf7e",
   "metadata": {
    "vscode": {
     "languageId": "plaintext"
    }
   },
   "outputs": [],
   "source": [
    "from utils.color_utils import harmonize_colors\n",
    "\n",
    "# Match person tone to background\n",
    "harmonized = harmonize_colors(person, bg)\n",
    "harmonized.show()\n"
   ]
  },
  {
   "cell_type": "code",
   "execution_count": null,
   "id": "6fbe7376",
   "metadata": {
    "vscode": {
     "languageId": "plaintext"
    }
   },
   "outputs": [],
   "source": [
    "# Paste harmonized person into background at a position\n",
    "bg_copy = bg.copy()  # Make a copy so you can re-run\n",
    "bg_copy.paste(harmonized, (250, 150), harmonized)\n",
    "bg_copy.show()\n"
   ]
  }
 ],
 "metadata": {
  "language_info": {
   "name": "python"
  }
 },
 "nbformat": 4,
 "nbformat_minor": 5
}
